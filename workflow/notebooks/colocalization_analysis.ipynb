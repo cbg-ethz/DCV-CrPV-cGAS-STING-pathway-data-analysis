{
 "cells": [
  {
   "cell_type": "code",
   "execution_count": 1,
   "id": "6afcef55",
   "metadata": {},
   "outputs": [],
   "source": [
    "import pandas as pd"
   ]
  },
  {
   "cell_type": "code",
   "execution_count": 2,
   "id": "56653761",
   "metadata": {},
   "outputs": [],
   "source": [
    "df = pd.read_csv(\"../../resources/additional_data/20250708-Colocalization results.csv\")"
   ]
  },
  {
   "cell_type": "code",
   "execution_count": 3,
   "id": "848805e5",
   "metadata": {},
   "outputs": [
    {
     "data": {
      "text/html": [
       "<div>\n",
       "<style scoped>\n",
       "    .dataframe tbody tr th:only-of-type {\n",
       "        vertical-align: middle;\n",
       "    }\n",
       "\n",
       "    .dataframe tbody tr th {\n",
       "        vertical-align: top;\n",
       "    }\n",
       "\n",
       "    .dataframe thead th {\n",
       "        text-align: right;\n",
       "    }\n",
       "</style>\n",
       "<table border=\"1\" class=\"dataframe\">\n",
       "  <thead>\n",
       "    <tr style=\"text-align: right;\">\n",
       "      <th></th>\n",
       "      <th>GFP-Sting</th>\n",
       "      <th>2B-Sting</th>\n",
       "      <th>2B(D29N)-Sting</th>\n",
       "    </tr>\n",
       "  </thead>\n",
       "  <tbody>\n",
       "    <tr>\n",
       "      <th>0</th>\n",
       "      <td>0.341</td>\n",
       "      <td>0.380</td>\n",
       "      <td>0.689</td>\n",
       "    </tr>\n",
       "    <tr>\n",
       "      <th>1</th>\n",
       "      <td>-0.464</td>\n",
       "      <td>0.351</td>\n",
       "      <td>0.800</td>\n",
       "    </tr>\n",
       "    <tr>\n",
       "      <th>2</th>\n",
       "      <td>-0.363</td>\n",
       "      <td>0.796</td>\n",
       "      <td>0.950</td>\n",
       "    </tr>\n",
       "    <tr>\n",
       "      <th>3</th>\n",
       "      <td>-0.518</td>\n",
       "      <td>0.483</td>\n",
       "      <td>0.915</td>\n",
       "    </tr>\n",
       "    <tr>\n",
       "      <th>4</th>\n",
       "      <td>-0.288</td>\n",
       "      <td>0.637</td>\n",
       "      <td>0.826</td>\n",
       "    </tr>\n",
       "    <tr>\n",
       "      <th>5</th>\n",
       "      <td>-0.238</td>\n",
       "      <td>0.678</td>\n",
       "      <td>0.875</td>\n",
       "    </tr>\n",
       "    <tr>\n",
       "      <th>6</th>\n",
       "      <td>-0.415</td>\n",
       "      <td>0.274</td>\n",
       "      <td>0.887</td>\n",
       "    </tr>\n",
       "    <tr>\n",
       "      <th>7</th>\n",
       "      <td>0.523</td>\n",
       "      <td>-0.005</td>\n",
       "      <td>0.124</td>\n",
       "    </tr>\n",
       "    <tr>\n",
       "      <th>8</th>\n",
       "      <td>-0.208</td>\n",
       "      <td>0.333</td>\n",
       "      <td>0.616</td>\n",
       "    </tr>\n",
       "    <tr>\n",
       "      <th>9</th>\n",
       "      <td>-0.522</td>\n",
       "      <td>-0.006</td>\n",
       "      <td>0.425</td>\n",
       "    </tr>\n",
       "    <tr>\n",
       "      <th>10</th>\n",
       "      <td>-0.091</td>\n",
       "      <td>0.709</td>\n",
       "      <td>0.743</td>\n",
       "    </tr>\n",
       "    <tr>\n",
       "      <th>11</th>\n",
       "      <td>-0.516</td>\n",
       "      <td>0.791</td>\n",
       "      <td>0.694</td>\n",
       "    </tr>\n",
       "    <tr>\n",
       "      <th>12</th>\n",
       "      <td>-0.325</td>\n",
       "      <td>0.706</td>\n",
       "      <td>0.742</td>\n",
       "    </tr>\n",
       "    <tr>\n",
       "      <th>13</th>\n",
       "      <td>0.183</td>\n",
       "      <td>0.416</td>\n",
       "      <td>0.755</td>\n",
       "    </tr>\n",
       "    <tr>\n",
       "      <th>14</th>\n",
       "      <td>-0.506</td>\n",
       "      <td>0.416</td>\n",
       "      <td>0.738</td>\n",
       "    </tr>\n",
       "    <tr>\n",
       "      <th>15</th>\n",
       "      <td>0.101</td>\n",
       "      <td>0.261</td>\n",
       "      <td>0.705</td>\n",
       "    </tr>\n",
       "    <tr>\n",
       "      <th>16</th>\n",
       "      <td>0.518</td>\n",
       "      <td>0.472</td>\n",
       "      <td>0.815</td>\n",
       "    </tr>\n",
       "    <tr>\n",
       "      <th>17</th>\n",
       "      <td>-0.157</td>\n",
       "      <td>0.742</td>\n",
       "      <td>0.941</td>\n",
       "    </tr>\n",
       "    <tr>\n",
       "      <th>18</th>\n",
       "      <td>0.080</td>\n",
       "      <td>0.742</td>\n",
       "      <td>0.772</td>\n",
       "    </tr>\n",
       "    <tr>\n",
       "      <th>19</th>\n",
       "      <td>-0.446</td>\n",
       "      <td>0.389</td>\n",
       "      <td>0.582</td>\n",
       "    </tr>\n",
       "    <tr>\n",
       "      <th>20</th>\n",
       "      <td>-0.449</td>\n",
       "      <td>0.588</td>\n",
       "      <td>0.876</td>\n",
       "    </tr>\n",
       "    <tr>\n",
       "      <th>21</th>\n",
       "      <td>-0.396</td>\n",
       "      <td>0.674</td>\n",
       "      <td>0.805</td>\n",
       "    </tr>\n",
       "    <tr>\n",
       "      <th>22</th>\n",
       "      <td>-0.400</td>\n",
       "      <td>NaN</td>\n",
       "      <td>NaN</td>\n",
       "    </tr>\n",
       "    <tr>\n",
       "      <th>23</th>\n",
       "      <td>-0.573</td>\n",
       "      <td>NaN</td>\n",
       "      <td>NaN</td>\n",
       "    </tr>\n",
       "    <tr>\n",
       "      <th>24</th>\n",
       "      <td>-0.355</td>\n",
       "      <td>NaN</td>\n",
       "      <td>NaN</td>\n",
       "    </tr>\n",
       "    <tr>\n",
       "      <th>25</th>\n",
       "      <td>-0.355</td>\n",
       "      <td>NaN</td>\n",
       "      <td>NaN</td>\n",
       "    </tr>\n",
       "    <tr>\n",
       "      <th>26</th>\n",
       "      <td>-0.313</td>\n",
       "      <td>NaN</td>\n",
       "      <td>NaN</td>\n",
       "    </tr>\n",
       "  </tbody>\n",
       "</table>\n",
       "</div>"
      ],
      "text/plain": [
       "    GFP-Sting  2B-Sting  2B(D29N)-Sting\n",
       "0       0.341     0.380           0.689\n",
       "1      -0.464     0.351           0.800\n",
       "2      -0.363     0.796           0.950\n",
       "3      -0.518     0.483           0.915\n",
       "4      -0.288     0.637           0.826\n",
       "5      -0.238     0.678           0.875\n",
       "6      -0.415     0.274           0.887\n",
       "7       0.523    -0.005           0.124\n",
       "8      -0.208     0.333           0.616\n",
       "9      -0.522    -0.006           0.425\n",
       "10     -0.091     0.709           0.743\n",
       "11     -0.516     0.791           0.694\n",
       "12     -0.325     0.706           0.742\n",
       "13      0.183     0.416           0.755\n",
       "14     -0.506     0.416           0.738\n",
       "15      0.101     0.261           0.705\n",
       "16      0.518     0.472           0.815\n",
       "17     -0.157     0.742           0.941\n",
       "18      0.080     0.742           0.772\n",
       "19     -0.446     0.389           0.582\n",
       "20     -0.449     0.588           0.876\n",
       "21     -0.396     0.674           0.805\n",
       "22     -0.400       NaN             NaN\n",
       "23     -0.573       NaN             NaN\n",
       "24     -0.355       NaN             NaN\n",
       "25     -0.355       NaN             NaN\n",
       "26     -0.313       NaN             NaN"
      ]
     },
     "execution_count": 3,
     "metadata": {},
     "output_type": "execute_result"
    }
   ],
   "source": [
    "df"
   ]
  },
  {
   "cell_type": "code",
   "execution_count": 4,
   "id": "ebbe5047",
   "metadata": {},
   "outputs": [
    {
     "name": "stderr",
     "output_type": "stream",
     "text": [
      "Python(27699) MallocStackLogging: can't turn off malloc stack logging because it was not enabled.\n",
      "Python(27700) MallocStackLogging: can't turn off malloc stack logging because it was not enabled.\n"
     ]
    }
   ],
   "source": [
    "%load_ext rpy2.ipython"
   ]
  },
  {
   "cell_type": "code",
   "execution_count": 13,
   "id": "71c96cbf",
   "metadata": {},
   "outputs": [
    {
     "name": "stderr",
     "output_type": "stream",
     "text": [
      "/Users/lfuhrmann/Library/Python/3.9/lib/python/site-packages/rpy2/robjects/pandas2ri.py:54: FutureWarning: iteritems is deprecated and will be removed in a future version. Use .items instead.\n",
      "  for name, values in obj.iteritems():\n"
     ]
    }
   ],
   "source": [
    "%%R -i df \n",
    "\n",
    "library(tidyr)\n",
    "\n",
    "df_long <- pivot_longer(\n",
    "  df,\n",
    "  cols = everything(),\n",
    "  names_to = \"condition\",\n",
    "  values_to = \"value\"\n",
    ")\n",
    "\n",
    "df_clean <- na.omit(df_long)"
   ]
  },
  {
   "cell_type": "code",
   "execution_count": 21,
   "id": "0dff6390",
   "metadata": {},
   "outputs": [
    {
     "name": "stdout",
     "output_type": "stream",
     "text": [
      "            Df Sum Sq Mean Sq F value Pr(>F)    \n",
      "condition    2  12.59   6.294    95.1 <2e-16 ***\n",
      "Residuals   68   4.50   0.066                   \n",
      "---\n",
      "Signif. codes:  0 ‘***’ 0.001 ‘**’ 0.01 ‘*’ 0.05 ‘.’ 0.1 ‘ ’ 1\n"
     ]
    }
   ],
   "source": [
    "%%R \n",
    "\n",
    "# One-way ANOVA\n",
    "anova_result <- aov(value ~ condition, data = df_clean)\n",
    "summary(anova_result)\n"
   ]
  },
  {
   "cell_type": "markdown",
   "id": "9552e3d2",
   "metadata": {},
   "source": [
    "### check normality"
   ]
  },
  {
   "cell_type": "code",
   "execution_count": 20,
   "id": "230c6db9",
   "metadata": {},
   "outputs": [
    {
     "data": {
      "image/png": "[encoded data removed]"
     },
     "metadata": {},
     "output_type": "display_data"
    }
   ],
   "source": [
    "%%R\n",
    "\n",
    "# Q-Q plot\n",
    "qqnorm(residuals(anova_result))\n",
    "qqline(residuals(anova_result))\n"
   ]
  },
  {
   "cell_type": "code",
   "execution_count": 19,
   "id": "6e86dbb0",
   "metadata": {},
   "outputs": [
    {
     "name": "stdout",
     "output_type": "stream",
     "text": [
      "\n",
      "\tShapiro-Wilk normality test\n",
      "\n",
      "data:  residuals(anova_result)\n",
      "W = 0.97155, p-value = 0.1066\n",
      "\n"
     ]
    }
   ],
   "source": [
    "%%R\n",
    "\n",
    "# Shapiro-Wilk test\n",
    "shapiro.test(residuals(anova_result))"
   ]
  },
  {
   "cell_type": "markdown",
   "id": "d59cf531",
   "metadata": {},
   "source": [
    "### check equal variances"
   ]
  },
  {
   "cell_type": "code",
   "execution_count": 23,
   "id": "f208dd06",
   "metadata": {},
   "outputs": [
    {
     "name": "stderr",
     "output_type": "stream",
     "text": [
      "R[write to console]: Lade nötiges Paket: carData\n",
      "\n"
     ]
    },
    {
     "name": "stdout",
     "output_type": "stream",
     "text": [
      "Levene's Test for Homogeneity of Variance (center = median)\n",
      "      Df F value Pr(>F)\n",
      "group  2  1.8606 0.1634\n",
      "      68               \n"
     ]
    }
   ],
   "source": [
    "%%R \n",
    "\n",
    "# Levene's Test (car package required)\n",
    "library(car)\n",
    "leveneTest(value ~ condition, data = df_long)"
   ]
  },
  {
   "cell_type": "markdown",
   "id": "e99fb964",
   "metadata": {},
   "source": [
    "### Pairwise comparison"
   ]
  },
  {
   "cell_type": "code",
   "execution_count": 16,
   "id": "e46f14c3",
   "metadata": {},
   "outputs": [
    {
     "name": "stdout",
     "output_type": "stream",
     "text": [
      "  Tukey multiple comparisons of means\n",
      "    95% family-wise confidence level\n",
      "\n",
      "Fit: aov(formula = value ~ condition, data = df_clean)\n",
      "\n",
      "$condition\n",
      "                               diff        lwr         upr     p adj\n",
      "2B-Sting-2B(D29N)-Sting  -0.2476364 -0.4334924 -0.06178028 0.0059793\n",
      "GFP-Sting-2B(D29N)-Sting -0.9676246 -1.1446672 -0.79058192 0.0000000\n",
      "GFP-Sting-2B-Sting       -0.7199882 -0.8970309 -0.54294555 0.0000000\n",
      "\n"
     ]
    }
   ],
   "source": [
    "%%R\n",
    "\n",
    "# Tukey's Honest Significant Difference test\n",
    "tukey_result <- TukeyHSD(anova_result)\n",
    "print(tukey_result)"
   ]
  },
  {
   "cell_type": "code",
   "execution_count": 17,
   "id": "05d5c05a",
   "metadata": {},
   "outputs": [
    {
     "data": {
      "image/png": "[encoded data removed]"
     },
     "metadata": {},
     "output_type": "display_data"
    }
   ],
   "source": [
    "%%R \n",
    "\n",
    "# Boxplot for visualization\n",
    "boxplot(value ~ condition, data = df_clean, main = \"Comparison of Conditions\", ylab = \"Value\", xlab = \"Condition\")\n"
   ]
  },
  {
   "cell_type": "code",
   "execution_count": null,
   "id": "42c86ed4",
   "metadata": {},
   "outputs": [],
   "source": []
  }
 ],
 "metadata": {
  "kernelspec": {
   "display_name": "Python 3 (ipykernel)",
   "language": "python",
   "name": "python3"
  },
  "language_info": {
   "codemirror_mode": {
    "name": "ipython",
    "version": 3
   },
   "file_extension": ".py",
   "mimetype": "text/x-python",
   "name": "python",
   "nbconvert_exporter": "python",
   "pygments_lexer": "ipython3",
   "version": "3.9.0"
  }
 },
 "nbformat": 4,
 "nbformat_minor": 5
}
